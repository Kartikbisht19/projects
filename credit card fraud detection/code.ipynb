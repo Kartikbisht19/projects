{
 "cells": [
  {
   "cell_type": "markdown",
   "id": "e1937486",
   "metadata": {},
   "source": [
    "# Segmentation of  Mall Customers Using Machine Learning"
   ]
  },
  {
   "cell_type": "code",
   "execution_count": 4,
   "id": "da576ff4",
   "metadata": {},
   "outputs": [],
   "source": [
    "import numpy as np\n",
    "import pandas as pd\n",
    "import matplotlib.pyplot as plt\n",
    "import seaborn as sns"
   ]
  },
  {
   "cell_type": "code",
   "execution_count": 5,
   "id": "4b13a2cb",
   "metadata": {},
   "outputs": [],
   "source": [
    "df = pd.read_csv(\"C:\\\\Users\\\\admin\\\\Desktop\\\\project\\\\Mall_Customers.csv\")"
   ]
  },
  {
   "cell_type": "markdown",
   "id": "d4d66e31",
   "metadata": {},
   "source": [
    "## Overview of Dataset"
   ]
  },
  {
   "cell_type": "code",
   "execution_count": 6,
   "id": "b122676a",
   "metadata": {},
   "outputs": [
    {
     "data": {
      "text/html": [
       "<div>\n",
       "<style scoped>\n",
       "    .dataframe tbody tr th:only-of-type {\n",
       "        vertical-align: middle;\n",
       "    }\n",
       "\n",
       "    .dataframe tbody tr th {\n",
       "        vertical-align: top;\n",
       "    }\n",
       "\n",
       "    .dataframe thead th {\n",
       "        text-align: right;\n",
       "    }\n",
       "</style>\n",
       "<table border=\"1\" class=\"dataframe\">\n",
       "  <thead>\n",
       "    <tr style=\"text-align: right;\">\n",
       "      <th></th>\n",
       "      <th>CustomerID</th>\n",
       "      <th>Gender</th>\n",
       "      <th>Age</th>\n",
       "      <th>Annual Income (k$)</th>\n",
       "      <th>Spending Score (1-100)</th>\n",
       "    </tr>\n",
       "  </thead>\n",
       "  <tbody>\n",
       "    <tr>\n",
       "      <th>0</th>\n",
       "      <td>1</td>\n",
       "      <td>Male</td>\n",
       "      <td>19</td>\n",
       "      <td>15</td>\n",
       "      <td>39</td>\n",
       "    </tr>\n",
       "    <tr>\n",
       "      <th>1</th>\n",
       "      <td>2</td>\n",
       "      <td>Male</td>\n",
       "      <td>21</td>\n",
       "      <td>15</td>\n",
       "      <td>81</td>\n",
       "    </tr>\n",
       "    <tr>\n",
       "      <th>2</th>\n",
       "      <td>3</td>\n",
       "      <td>Female</td>\n",
       "      <td>20</td>\n",
       "      <td>16</td>\n",
       "      <td>6</td>\n",
       "    </tr>\n",
       "    <tr>\n",
       "      <th>3</th>\n",
       "      <td>4</td>\n",
       "      <td>Female</td>\n",
       "      <td>23</td>\n",
       "      <td>16</td>\n",
       "      <td>77</td>\n",
       "    </tr>\n",
       "    <tr>\n",
       "      <th>4</th>\n",
       "      <td>5</td>\n",
       "      <td>Female</td>\n",
       "      <td>31</td>\n",
       "      <td>17</td>\n",
       "      <td>40</td>\n",
       "    </tr>\n",
       "  </tbody>\n",
       "</table>\n",
       "</div>"
      ],
      "text/plain": [
       "   CustomerID  Gender  Age  Annual Income (k$)  Spending Score (1-100)\n",
       "0           1    Male   19                  15                      39\n",
       "1           2    Male   21                  15                      81\n",
       "2           3  Female   20                  16                       6\n",
       "3           4  Female   23                  16                      77\n",
       "4           5  Female   31                  17                      40"
      ]
     },
     "execution_count": 6,
     "metadata": {},
     "output_type": "execute_result"
    }
   ],
   "source": [
    "df.head()"
   ]
  },
  {
   "cell_type": "code",
   "execution_count": 7,
   "id": "13b50ab8",
   "metadata": {},
   "outputs": [
    {
     "data": {
      "text/html": [
       "<div>\n",
       "<style scoped>\n",
       "    .dataframe tbody tr th:only-of-type {\n",
       "        vertical-align: middle;\n",
       "    }\n",
       "\n",
       "    .dataframe tbody tr th {\n",
       "        vertical-align: top;\n",
       "    }\n",
       "\n",
       "    .dataframe thead th {\n",
       "        text-align: right;\n",
       "    }\n",
       "</style>\n",
       "<table border=\"1\" class=\"dataframe\">\n",
       "  <thead>\n",
       "    <tr style=\"text-align: right;\">\n",
       "      <th></th>\n",
       "      <th>CustomerID</th>\n",
       "      <th>Gender</th>\n",
       "      <th>Age</th>\n",
       "      <th>Annual Income (k$)</th>\n",
       "      <th>Spending Score (1-100)</th>\n",
       "    </tr>\n",
       "  </thead>\n",
       "  <tbody>\n",
       "    <tr>\n",
       "      <th>99</th>\n",
       "      <td>100</td>\n",
       "      <td>Male</td>\n",
       "      <td>20</td>\n",
       "      <td>61</td>\n",
       "      <td>49</td>\n",
       "    </tr>\n",
       "    <tr>\n",
       "      <th>110</th>\n",
       "      <td>111</td>\n",
       "      <td>Male</td>\n",
       "      <td>65</td>\n",
       "      <td>63</td>\n",
       "      <td>52</td>\n",
       "    </tr>\n",
       "    <tr>\n",
       "      <th>190</th>\n",
       "      <td>191</td>\n",
       "      <td>Female</td>\n",
       "      <td>34</td>\n",
       "      <td>103</td>\n",
       "      <td>23</td>\n",
       "    </tr>\n",
       "    <tr>\n",
       "      <th>100</th>\n",
       "      <td>101</td>\n",
       "      <td>Female</td>\n",
       "      <td>23</td>\n",
       "      <td>62</td>\n",
       "      <td>41</td>\n",
       "    </tr>\n",
       "    <tr>\n",
       "      <th>178</th>\n",
       "      <td>179</td>\n",
       "      <td>Male</td>\n",
       "      <td>59</td>\n",
       "      <td>93</td>\n",
       "      <td>14</td>\n",
       "    </tr>\n",
       "    <tr>\n",
       "      <th>195</th>\n",
       "      <td>196</td>\n",
       "      <td>Female</td>\n",
       "      <td>35</td>\n",
       "      <td>120</td>\n",
       "      <td>79</td>\n",
       "    </tr>\n",
       "    <tr>\n",
       "      <th>73</th>\n",
       "      <td>74</td>\n",
       "      <td>Female</td>\n",
       "      <td>60</td>\n",
       "      <td>50</td>\n",
       "      <td>56</td>\n",
       "    </tr>\n",
       "    <tr>\n",
       "      <th>116</th>\n",
       "      <td>117</td>\n",
       "      <td>Female</td>\n",
       "      <td>63</td>\n",
       "      <td>65</td>\n",
       "      <td>43</td>\n",
       "    </tr>\n",
       "    <tr>\n",
       "      <th>136</th>\n",
       "      <td>137</td>\n",
       "      <td>Female</td>\n",
       "      <td>44</td>\n",
       "      <td>73</td>\n",
       "      <td>7</td>\n",
       "    </tr>\n",
       "    <tr>\n",
       "      <th>87</th>\n",
       "      <td>88</td>\n",
       "      <td>Female</td>\n",
       "      <td>22</td>\n",
       "      <td>57</td>\n",
       "      <td>55</td>\n",
       "    </tr>\n",
       "  </tbody>\n",
       "</table>\n",
       "</div>"
      ],
      "text/plain": [
       "     CustomerID  Gender  Age  Annual Income (k$)  Spending Score (1-100)\n",
       "99          100    Male   20                  61                      49\n",
       "110         111    Male   65                  63                      52\n",
       "190         191  Female   34                 103                      23\n",
       "100         101  Female   23                  62                      41\n",
       "178         179    Male   59                  93                      14\n",
       "195         196  Female   35                 120                      79\n",
       "73           74  Female   60                  50                      56\n",
       "116         117  Female   63                  65                      43\n",
       "136         137  Female   44                  73                       7\n",
       "87           88  Female   22                  57                      55"
      ]
     },
     "execution_count": 7,
     "metadata": {},
     "output_type": "execute_result"
    }
   ],
   "source": [
    "df.sample(10)"
   ]
  },
  {
   "cell_type": "code",
   "execution_count": 5,
   "id": "9328fe7a",
   "metadata": {},
   "outputs": [
    {
     "data": {
      "text/plain": [
       "(200, 5)"
      ]
     },
     "execution_count": 5,
     "metadata": {},
     "output_type": "execute_result"
    }
   ],
   "source": [
    "df.shape"
   ]
  },
  {
   "cell_type": "code",
   "execution_count": 6,
   "id": "dd2d4b10",
   "metadata": {},
   "outputs": [
    {
     "name": "stdout",
     "output_type": "stream",
     "text": [
      "<class 'pandas.core.frame.DataFrame'>\n",
      "RangeIndex: 200 entries, 0 to 199\n",
      "Data columns (total 5 columns):\n",
      " #   Column                  Non-Null Count  Dtype \n",
      "---  ------                  --------------  ----- \n",
      " 0   CustomerID              200 non-null    int64 \n",
      " 1   Gender                  200 non-null    object\n",
      " 2   Age                     200 non-null    int64 \n",
      " 3   Annual Income (k$)      200 non-null    int64 \n",
      " 4   Spending Score (1-100)  200 non-null    int64 \n",
      "dtypes: int64(4), object(1)\n",
      "memory usage: 7.9+ KB\n"
     ]
    }
   ],
   "source": [
    "df.info()"
   ]
  },
  {
   "cell_type": "code",
   "execution_count": 7,
   "id": "c060a622",
   "metadata": {},
   "outputs": [
    {
     "data": {
      "text/plain": [
       "CustomerID                0\n",
       "Gender                    0\n",
       "Age                       0\n",
       "Annual Income (k$)        0\n",
       "Spending Score (1-100)    0\n",
       "dtype: int64"
      ]
     },
     "execution_count": 7,
     "metadata": {},
     "output_type": "execute_result"
    }
   ],
   "source": [
    "df.isnull().sum()"
   ]
  },
  {
   "cell_type": "code",
   "execution_count": 8,
   "id": "9dea9bba",
   "metadata": {},
   "outputs": [
    {
     "data": {
      "text/html": [
       "<div>\n",
       "<style scoped>\n",
       "    .dataframe tbody tr th:only-of-type {\n",
       "        vertical-align: middle;\n",
       "    }\n",
       "\n",
       "    .dataframe tbody tr th {\n",
       "        vertical-align: top;\n",
       "    }\n",
       "\n",
       "    .dataframe thead th {\n",
       "        text-align: right;\n",
       "    }\n",
       "</style>\n",
       "<table border=\"1\" class=\"dataframe\">\n",
       "  <thead>\n",
       "    <tr style=\"text-align: right;\">\n",
       "      <th></th>\n",
       "      <th>CustomerID</th>\n",
       "      <th>Age</th>\n",
       "      <th>Annual Income (k$)</th>\n",
       "      <th>Spending Score (1-100)</th>\n",
       "    </tr>\n",
       "  </thead>\n",
       "  <tbody>\n",
       "    <tr>\n",
       "      <th>count</th>\n",
       "      <td>200.000000</td>\n",
       "      <td>200.000000</td>\n",
       "      <td>200.000000</td>\n",
       "      <td>200.000000</td>\n",
       "    </tr>\n",
       "    <tr>\n",
       "      <th>mean</th>\n",
       "      <td>100.500000</td>\n",
       "      <td>38.850000</td>\n",
       "      <td>60.560000</td>\n",
       "      <td>50.200000</td>\n",
       "    </tr>\n",
       "    <tr>\n",
       "      <th>std</th>\n",
       "      <td>57.879185</td>\n",
       "      <td>13.969007</td>\n",
       "      <td>26.264721</td>\n",
       "      <td>25.823522</td>\n",
       "    </tr>\n",
       "    <tr>\n",
       "      <th>min</th>\n",
       "      <td>1.000000</td>\n",
       "      <td>18.000000</td>\n",
       "      <td>15.000000</td>\n",
       "      <td>1.000000</td>\n",
       "    </tr>\n",
       "    <tr>\n",
       "      <th>25%</th>\n",
       "      <td>50.750000</td>\n",
       "      <td>28.750000</td>\n",
       "      <td>41.500000</td>\n",
       "      <td>34.750000</td>\n",
       "    </tr>\n",
       "    <tr>\n",
       "      <th>50%</th>\n",
       "      <td>100.500000</td>\n",
       "      <td>36.000000</td>\n",
       "      <td>61.500000</td>\n",
       "      <td>50.000000</td>\n",
       "    </tr>\n",
       "    <tr>\n",
       "      <th>75%</th>\n",
       "      <td>150.250000</td>\n",
       "      <td>49.000000</td>\n",
       "      <td>78.000000</td>\n",
       "      <td>73.000000</td>\n",
       "    </tr>\n",
       "    <tr>\n",
       "      <th>max</th>\n",
       "      <td>200.000000</td>\n",
       "      <td>70.000000</td>\n",
       "      <td>137.000000</td>\n",
       "      <td>99.000000</td>\n",
       "    </tr>\n",
       "  </tbody>\n",
       "</table>\n",
       "</div>"
      ],
      "text/plain": [
       "       CustomerID         Age  Annual Income (k$)  Spending Score (1-100)\n",
       "count  200.000000  200.000000          200.000000              200.000000\n",
       "mean   100.500000   38.850000           60.560000               50.200000\n",
       "std     57.879185   13.969007           26.264721               25.823522\n",
       "min      1.000000   18.000000           15.000000                1.000000\n",
       "25%     50.750000   28.750000           41.500000               34.750000\n",
       "50%    100.500000   36.000000           61.500000               50.000000\n",
       "75%    150.250000   49.000000           78.000000               73.000000\n",
       "max    200.000000   70.000000          137.000000               99.000000"
      ]
     },
     "execution_count": 8,
     "metadata": {},
     "output_type": "execute_result"
    }
   ],
   "source": [
    "df.describe()"
   ]
  },
  {
   "cell_type": "code",
   "execution_count": 9,
   "id": "81370bfa",
   "metadata": {},
   "outputs": [],
   "source": [
    "df.drop('CustomerID',axis = 1, inplace = True)"
   ]
  },
  {
   "cell_type": "code",
   "execution_count": 10,
   "id": "14ce796e",
   "metadata": {},
   "outputs": [
    {
     "data": {
      "text/html": [
       "<div>\n",
       "<style scoped>\n",
       "    .dataframe tbody tr th:only-of-type {\n",
       "        vertical-align: middle;\n",
       "    }\n",
       "\n",
       "    .dataframe tbody tr th {\n",
       "        vertical-align: top;\n",
       "    }\n",
       "\n",
       "    .dataframe thead th {\n",
       "        text-align: right;\n",
       "    }\n",
       "</style>\n",
       "<table border=\"1\" class=\"dataframe\">\n",
       "  <thead>\n",
       "    <tr style=\"text-align: right;\">\n",
       "      <th></th>\n",
       "      <th>Gender</th>\n",
       "      <th>Age</th>\n",
       "      <th>Annual Income (k$)</th>\n",
       "      <th>Spending Score (1-100)</th>\n",
       "    </tr>\n",
       "  </thead>\n",
       "  <tbody>\n",
       "    <tr>\n",
       "      <th>0</th>\n",
       "      <td>Male</td>\n",
       "      <td>19</td>\n",
       "      <td>15</td>\n",
       "      <td>39</td>\n",
       "    </tr>\n",
       "    <tr>\n",
       "      <th>1</th>\n",
       "      <td>Male</td>\n",
       "      <td>21</td>\n",
       "      <td>15</td>\n",
       "      <td>81</td>\n",
       "    </tr>\n",
       "    <tr>\n",
       "      <th>2</th>\n",
       "      <td>Female</td>\n",
       "      <td>20</td>\n",
       "      <td>16</td>\n",
       "      <td>6</td>\n",
       "    </tr>\n",
       "    <tr>\n",
       "      <th>3</th>\n",
       "      <td>Female</td>\n",
       "      <td>23</td>\n",
       "      <td>16</td>\n",
       "      <td>77</td>\n",
       "    </tr>\n",
       "    <tr>\n",
       "      <th>4</th>\n",
       "      <td>Female</td>\n",
       "      <td>31</td>\n",
       "      <td>17</td>\n",
       "      <td>40</td>\n",
       "    </tr>\n",
       "  </tbody>\n",
       "</table>\n",
       "</div>"
      ],
      "text/plain": [
       "   Gender  Age  Annual Income (k$)  Spending Score (1-100)\n",
       "0    Male   19                  15                      39\n",
       "1    Male   21                  15                      81\n",
       "2  Female   20                  16                       6\n",
       "3  Female   23                  16                      77\n",
       "4  Female   31                  17                      40"
      ]
     },
     "execution_count": 10,
     "metadata": {},
     "output_type": "execute_result"
    }
   ],
   "source": [
    "df.head()"
   ]
  },
  {
   "cell_type": "code",
   "execution_count": 11,
   "id": "499d7e9b",
   "metadata": {},
   "outputs": [
    {
     "data": {
      "text/html": [
       "<div>\n",
       "<style scoped>\n",
       "    .dataframe tbody tr th:only-of-type {\n",
       "        vertical-align: middle;\n",
       "    }\n",
       "\n",
       "    .dataframe tbody tr th {\n",
       "        vertical-align: top;\n",
       "    }\n",
       "\n",
       "    .dataframe thead th {\n",
       "        text-align: right;\n",
       "    }\n",
       "</style>\n",
       "<table border=\"1\" class=\"dataframe\">\n",
       "  <thead>\n",
       "    <tr style=\"text-align: right;\">\n",
       "      <th></th>\n",
       "      <th>Age</th>\n",
       "      <th>Annual Income (k$)</th>\n",
       "      <th>Spending Score (1-100)</th>\n",
       "    </tr>\n",
       "  </thead>\n",
       "  <tbody>\n",
       "    <tr>\n",
       "      <th>Age</th>\n",
       "      <td>1.000000</td>\n",
       "      <td>-0.012398</td>\n",
       "      <td>-0.327227</td>\n",
       "    </tr>\n",
       "    <tr>\n",
       "      <th>Annual Income (k$)</th>\n",
       "      <td>-0.012398</td>\n",
       "      <td>1.000000</td>\n",
       "      <td>0.009903</td>\n",
       "    </tr>\n",
       "    <tr>\n",
       "      <th>Spending Score (1-100)</th>\n",
       "      <td>-0.327227</td>\n",
       "      <td>0.009903</td>\n",
       "      <td>1.000000</td>\n",
       "    </tr>\n",
       "  </tbody>\n",
       "</table>\n",
       "</div>"
      ],
      "text/plain": [
       "                             Age  Annual Income (k$)  Spending Score (1-100)\n",
       "Age                     1.000000           -0.012398               -0.327227\n",
       "Annual Income (k$)     -0.012398            1.000000                0.009903\n",
       "Spending Score (1-100) -0.327227            0.009903                1.000000"
      ]
     },
     "execution_count": 11,
     "metadata": {},
     "output_type": "execute_result"
    }
   ],
   "source": [
    "df.corr()"
   ]
  },
  {
   "cell_type": "markdown",
   "id": "6677da7c",
   "metadata": {},
   "source": [
    "## Exporatory Data Analysis"
   ]
  },
  {
   "cell_type": "code",
   "execution_count": 8,
   "id": "487a45e5",
   "metadata": {},
   "outputs": [
    {
     "data": {
      "text/plain": [
       "<Axes: xlabel='Age', ylabel='Count'>"
      ]
     },
     "execution_count": 8,
     "metadata": {},
     "output_type": "execute_result"
    },
    {
     "data": {
      "image/png": "[encoded data removed]",
      "text/plain": [
       "<Figure size 1200x700 with 1 Axes>"
      ]
     },
     "metadata": {},
     "output_type": "display_data"
    }
   ],
   "source": [
    "plt.figure(figsize = (12,7))\n",
    "sns.histplot(x = 'Age', data = df, bins = 10)"
   ]
  },
  {
   "cell_type": "code",
   "execution_count": 13,
   "id": "fb240165",
   "metadata": {},
   "outputs": [
    {
     "data": {
      "text/plain": [
       "<AxesSubplot:xlabel='Gender', ylabel='count'>"
      ]
     },
     "execution_count": 13,
     "metadata": {},
     "output_type": "execute_result"
    },
    {
     "data": {
      "image/png": "[encoded data removed]",
      "text/plain": [
       "<Figure size 432x288 with 1 Axes>"
      ]
     },
     "metadata": {
      "needs_background": "light"
     },
     "output_type": "display_data"
    }
   ],
   "source": [
    "sns.countplot(x = 'Gender', data = df)"
   ]
  },
  {
   "cell_type": "code",
   "execution_count": 14,
   "id": "ec9a37e6",
   "metadata": {},
   "outputs": [
    {
     "data": {
      "text/plain": [
       "Female    112\n",
       "Male       88\n",
       "Name: Gender, dtype: int64"
      ]
     },
     "execution_count": 14,
     "metadata": {},
     "output_type": "execute_result"
    }
   ],
   "source": [
    "df['Gender'].value_counts()"
   ]
  },
  {
   "cell_type": "code",
   "execution_count": 15,
   "id": "39c9c0cb",
   "metadata": {},
   "outputs": [
    {
     "data": {
      "text/plain": [
       "<AxesSubplot:xlabel='Age', ylabel='Spending Score (1-100)'>"
      ]
     },
     "execution_count": 15,
     "metadata": {},
     "output_type": "execute_result"
    },
    {
     "data": {
      "image/png": "[encoded data removed]",
      "text/plain": [
       "<Figure size 864x504 with 1 Axes>"
      ]
     },
     "metadata": {
      "needs_background": "light"
     },
     "output_type": "display_data"
    }
   ],
   "source": [
    "plt.figure(figsize = (12,7))\n",
    "sns.scatterplot(x = 'Age', y = 'Spending Score (1-100)', data = df, hue = 'Gender')"
   ]
  },
  {
   "cell_type": "code",
   "execution_count": 16,
   "id": "870d0f36",
   "metadata": {},
   "outputs": [
    {
     "data": {
      "text/plain": [
       "<AxesSubplot:xlabel='Annual Income (k$)', ylabel='Spending Score (1-100)'>"
      ]
     },
     "execution_count": 16,
     "metadata": {},
     "output_type": "execute_result"
    },
    {
     "data": {
      "image/png": "[encoded data removed]",
      "text/plain": [
       "<Figure size 864x504 with 1 Axes>"
      ]
     },
     "metadata": {
      "needs_background": "light"
     },
     "output_type": "display_data"
    }
   ],
   "source": [
    "plt.figure(figsize = (12,7))\n",
    "sns.scatterplot(x = 'Annual Income (k$)', y = 'Spending Score (1-100)', data = df, hue = 'Gender')"
   ]
  },
  {
   "cell_type": "code",
   "execution_count": 17,
   "id": "204a5800",
   "metadata": {},
   "outputs": [
    {
     "data": {
      "text/plain": [
       "<AxesSubplot:xlabel='Age', ylabel='Annual Income (k$)'>"
      ]
     },
     "execution_count": 17,
     "metadata": {},
     "output_type": "execute_result"
    },
    {
     "data": {
      "image/png": "[encoded data removed]",
      "text/plain": [
       "<Figure size 864x504 with 1 Axes>"
      ]
     },
     "metadata": {
      "needs_background": "light"
     },
     "output_type": "display_data"
    }
   ],
   "source": [
    "plt.figure(figsize = (12,7))\n",
    "sns.scatterplot(x = 'Age', y = 'Annual Income (k$)', data = df, hue = 'Gender')"
   ]
  },
  {
   "cell_type": "code",
   "execution_count": 18,
   "id": "6304be5b",
   "metadata": {},
   "outputs": [
    {
     "data": {
      "text/plain": [
       "<Figure size 1152x648 with 0 Axes>"
      ]
     },
     "metadata": {},
     "output_type": "display_data"
    },
    {
     "data": {
      "image/png": "[encoded data removed]",
      "text/plain": [
       "<Figure size 540x540 with 12 Axes>"
      ]
     },
     "metadata": {
      "needs_background": "light"
     },
     "output_type": "display_data"
    }
   ],
   "source": [
    "plt.figure(figsize=(16,9))\n",
    "sns.pairplot(df)\n",
    "plt.show()"
   ]
  },
  {
   "cell_type": "code",
   "execution_count": 19,
   "id": "8157f191",
   "metadata": {},
   "outputs": [
    {
     "data": {
      "application/vnd.jupyter.widget-view+json": {
       "model_id": "300d61118bc24e4c9510bf5d858dfea1",
       "version_major": 2,
       "version_minor": 0
      },
      "text/plain": [
       "Summarize dataset:   0%|          | 0/5 [00:00<?, ?it/s]"
      ]
     },
     "metadata": {},
     "output_type": "display_data"
    },
    {
     "data": {
      "application/vnd.jupyter.widget-view+json": {
       "model_id": "73814125cabe4d179de52b2d4147d50a",
       "version_major": 2,
       "version_minor": 0
      },
      "text/plain": [
       "Generate report structure:   0%|          | 0/1 [00:00<?, ?it/s]"
      ]
     },
     "metadata": {},
     "output_type": "display_data"
    },
    {
     "data": {
      "application/vnd.jupyter.widget-view+json": {
       "model_id": "13d16e740b3949598774009c0d603dcc",
       "version_major": 2,
       "version_minor": 0
      },
      "text/plain": [
       "Render HTML:   0%|          | 0/1 [00:00<?, ?it/s]"
      ]
     },
     "metadata": {},
     "output_type": "display_data"
    },
    {
     "data": {
      "application/vnd.jupyter.widget-view+json": {
       "model_id": "c5a1b298c51d4d5dbc62386f78a873b9",
       "version_major": 2,
       "version_minor": 0
      },
      "text/plain": [
       "Export report to file:   0%|          | 0/1 [00:00<?, ?it/s]"
      ]
     },
     "metadata": {},
     "output_type": "display_data"
    }
   ],
   "source": [
    "from pandas_profiling import ProfileReport\n",
    "prof = ProfileReport(df)\n",
    "prof.to_file(output_file = 'C:\\\\Users\\\\DELL\\\\Desktop\\\\struct pr\\\\Customer Segmentation Machine learning\\\\Profile Report\\ProfileReport.html')"
   ]
  },
  {
   "cell_type": "markdown",
   "id": "322798ee",
   "metadata": {},
   "source": [
    "## Clustering Algorithm : K-means"
   ]
  },
  {
   "cell_type": "code",
   "execution_count": 20,
   "id": "30024c33",
   "metadata": {},
   "outputs": [
    {
     "name": "stdout",
     "output_type": "stream",
     "text": [
      "[[ 19  15]\n",
      " [ 21  15]\n",
      " [ 20  16]\n",
      " [ 23  16]\n",
      " [ 31  17]\n",
      " [ 22  17]\n",
      " [ 35  18]\n",
      " [ 23  18]\n",
      " [ 64  19]\n",
      " [ 30  19]\n",
      " [ 67  19]\n",
      " [ 35  19]\n",
      " [ 58  20]\n",
      " [ 24  20]\n",
      " [ 37  20]\n",
      " [ 22  20]\n",
      " [ 35  21]\n",
      " [ 20  21]\n",
      " [ 52  23]\n",
      " [ 35  23]\n",
      " [ 35  24]\n",
      " [ 25  24]\n",
      " [ 46  25]\n",
      " [ 31  25]\n",
      " [ 54  28]\n",
      " [ 29  28]\n",
      " [ 45  28]\n",
      " [ 35  28]\n",
      " [ 40  29]\n",
      " [ 23  29]\n",
      " [ 60  30]\n",
      " [ 21  30]\n",
      " [ 53  33]\n",
      " [ 18  33]\n",
      " [ 49  33]\n",
      " [ 21  33]\n",
      " [ 42  34]\n",
      " [ 30  34]\n",
      " [ 36  37]\n",
      " [ 20  37]\n",
      " [ 65  38]\n",
      " [ 24  38]\n",
      " [ 48  39]\n",
      " [ 31  39]\n",
      " [ 49  39]\n",
      " [ 24  39]\n",
      " [ 50  40]\n",
      " [ 27  40]\n",
      " [ 29  40]\n",
      " [ 31  40]\n",
      " [ 49  42]\n",
      " [ 33  42]\n",
      " [ 31  43]\n",
      " [ 59  43]\n",
      " [ 50  43]\n",
      " [ 47  43]\n",
      " [ 51  44]\n",
      " [ 69  44]\n",
      " [ 27  46]\n",
      " [ 53  46]\n",
      " [ 70  46]\n",
      " [ 19  46]\n",
      " [ 67  47]\n",
      " [ 54  47]\n",
      " [ 63  48]\n",
      " [ 18  48]\n",
      " [ 43  48]\n",
      " [ 68  48]\n",
      " [ 19  48]\n",
      " [ 32  48]\n",
      " [ 70  49]\n",
      " [ 47  49]\n",
      " [ 60  50]\n",
      " [ 60  50]\n",
      " [ 59  54]\n",
      " [ 26  54]\n",
      " [ 45  54]\n",
      " [ 40  54]\n",
      " [ 23  54]\n",
      " [ 49  54]\n",
      " [ 57  54]\n",
      " [ 38  54]\n",
      " [ 67  54]\n",
      " [ 46  54]\n",
      " [ 21  54]\n",
      " [ 48  54]\n",
      " [ 55  57]\n",
      " [ 22  57]\n",
      " [ 34  58]\n",
      " [ 50  58]\n",
      " [ 68  59]\n",
      " [ 18  59]\n",
      " [ 48  60]\n",
      " [ 40  60]\n",
      " [ 32  60]\n",
      " [ 24  60]\n",
      " [ 47  60]\n",
      " [ 27  60]\n",
      " [ 48  61]\n",
      " [ 20  61]\n",
      " [ 23  62]\n",
      " [ 49  62]\n",
      " [ 67  62]\n",
      " [ 26  62]\n",
      " [ 49  62]\n",
      " [ 21  62]\n",
      " [ 66  63]\n",
      " [ 54  63]\n",
      " [ 68  63]\n",
      " [ 66  63]\n",
      " [ 65  63]\n",
      " [ 19  63]\n",
      " [ 38  64]\n",
      " [ 19  64]\n",
      " [ 18  65]\n",
      " [ 19  65]\n",
      " [ 63  65]\n",
      " [ 49  65]\n",
      " [ 51  67]\n",
      " [ 50  67]\n",
      " [ 27  67]\n",
      " [ 38  67]\n",
      " [ 40  69]\n",
      " [ 39  69]\n",
      " [ 23  70]\n",
      " [ 31  70]\n",
      " [ 43  71]\n",
      " [ 40  71]\n",
      " [ 59  71]\n",
      " [ 38  71]\n",
      " [ 47  71]\n",
      " [ 39  71]\n",
      " [ 25  72]\n",
      " [ 31  72]\n",
      " [ 20  73]\n",
      " [ 29  73]\n",
      " [ 44  73]\n",
      " [ 32  73]\n",
      " [ 19  74]\n",
      " [ 35  74]\n",
      " [ 57  75]\n",
      " [ 32  75]\n",
      " [ 28  76]\n",
      " [ 32  76]\n",
      " [ 25  77]\n",
      " [ 28  77]\n",
      " [ 48  77]\n",
      " [ 32  77]\n",
      " [ 34  78]\n",
      " [ 34  78]\n",
      " [ 43  78]\n",
      " [ 39  78]\n",
      " [ 44  78]\n",
      " [ 38  78]\n",
      " [ 47  78]\n",
      " [ 27  78]\n",
      " [ 37  78]\n",
      " [ 30  78]\n",
      " [ 34  78]\n",
      " [ 30  78]\n",
      " [ 56  79]\n",
      " [ 29  79]\n",
      " [ 19  81]\n",
      " [ 31  81]\n",
      " [ 50  85]\n",
      " [ 36  85]\n",
      " [ 42  86]\n",
      " [ 33  86]\n",
      " [ 36  87]\n",
      " [ 32  87]\n",
      " [ 40  87]\n",
      " [ 28  87]\n",
      " [ 36  87]\n",
      " [ 36  87]\n",
      " [ 52  88]\n",
      " [ 30  88]\n",
      " [ 58  88]\n",
      " [ 27  88]\n",
      " [ 59  93]\n",
      " [ 35  93]\n",
      " [ 37  97]\n",
      " [ 32  97]\n",
      " [ 46  98]\n",
      " [ 29  98]\n",
      " [ 41  99]\n",
      " [ 30  99]\n",
      " [ 54 101]\n",
      " [ 28 101]\n",
      " [ 41 103]\n",
      " [ 36 103]\n",
      " [ 34 103]\n",
      " [ 32 103]\n",
      " [ 33 113]\n",
      " [ 38 113]\n",
      " [ 47 120]\n",
      " [ 35 120]\n",
      " [ 45 126]\n",
      " [ 32 126]\n",
      " [ 32 137]\n",
      " [ 30 137]]\n"
     ]
    }
   ],
   "source": [
    "Age_income_df = df.iloc[:,1:3].values\n",
    "print(Age_income_df)"
   ]
  },
  {
   "cell_type": "code",
   "execution_count": 21,
   "id": "fe2067b9",
   "metadata": {},
   "outputs": [],
   "source": [
    "from sklearn.cluster import KMeans\n",
    "wcss = []\n",
    "for i in range(1,11):\n",
    "    kmeans = KMeans(n_clusters = i, init = \"k-means++\")\n",
    "    kmeans.fit(Age_income_df)\n",
    "    wcss.append(kmeans.inertia_)"
   ]
  },
  {
   "cell_type": "code",
   "execution_count": 22,
   "id": "9cb6dcd8",
   "metadata": {},
   "outputs": [
    {
     "data": {
      "image/png": "[encoded data removed]",
      "text/plain": [
       "<Figure size 864x504 with 1 Axes>"
      ]
     },
     "metadata": {
      "needs_background": "light"
     },
     "output_type": "display_data"
    }
   ],
   "source": [
    "plt.figure(figsize = (12,7))\n",
    "plt.grid()\n",
    "plt.plot(range(1,11), wcss,linewidth = 2, color = 'red', marker = '8')\n",
    "plt.xlabel('K value')\n",
    "plt.ylabel('wcss')\n",
    "plt.title('Elbow Graph')\n",
    "plt.show()"
   ]
  },
  {
   "cell_type": "code",
   "execution_count": 23,
   "id": "c312b108",
   "metadata": {},
   "outputs": [
    {
     "name": "stdout",
     "output_type": "stream",
     "text": [
      "[0 0 0 0 0 0 0 0 1 0 1 0 0 0 0 0 0 0 0 0 0 0 0 0 0 0 0 0 0 0 1 0 1 0 0 0 0\n",
      " 0 0 0 1 0 1 0 1 0 1 0 0 0 1 0 0 1 1 1 1 1 0 1 1 0 1 1 1 0 1 1 0 0 1 1 1 1\n",
      " 1 3 1 1 3 1 1 1 1 1 3 1 1 3 3 1 1 3 1 3 3 3 1 3 1 3 3 1 1 3 1 3 1 1 1 1 1\n",
      " 3 3 3 3 3 1 1 1 1 3 3 3 3 3 3 3 3 1 3 3 3 3 3 3 3 3 3 3 3 1 3 3 3 3 3 3 3\n",
      " 3 3 3 3 3 3 3 3 3 3 3 3 3 3 3 3 3 3 3 3 3 3 3 3 3 3 2 3 2 3 2 2 2 2 2 2 2\n",
      " 2 2 2 2 2 2 2 2 2 2 2 2 2 2 2]\n"
     ]
    }
   ],
   "source": [
    "n_clusters = 5\n",
    "kmeans = KMeans(n_clusters = 4)\n",
    "label = kmeans.fit_predict(Age_income_df)\n",
    "print(label)"
   ]
  },
  {
   "cell_type": "code",
   "execution_count": 24,
   "id": "ebc9c0ba",
   "metadata": {},
   "outputs": [
    {
     "name": "stdout",
     "output_type": "stream",
     "text": [
      "0.43295184273333076\n"
     ]
    }
   ],
   "source": [
    "from sklearn.metrics import silhouette_score\n",
    "silhouette_avg = silhouette_score(Age_income_df, label)\n",
    "print(silhouette_avg)"
   ]
  },
  {
   "cell_type": "code",
   "execution_count": 25,
   "id": "5fd929a9",
   "metadata": {},
   "outputs": [
    {
     "name": "stdout",
     "output_type": "stream",
     "text": [
      "[[ 30.34693878  29.26530612]\n",
      " [ 55.81481481  51.77777778]\n",
      " [ 39.         106.5       ]\n",
      " [ 31.95890411  72.95890411]]\n"
     ]
    }
   ],
   "source": [
    "print(kmeans.cluster_centers_)"
   ]
  },
  {
   "cell_type": "code",
   "execution_count": 26,
   "id": "9db5e61e",
   "metadata": {},
   "outputs": [
    {
     "data": {
      "image/png": "[encoded data removed]",
      "text/plain": [
       "<Figure size 864x504 with 1 Axes>"
      ]
     },
     "metadata": {
      "needs_background": "light"
     },
     "output_type": "display_data"
    }
   ],
   "source": [
    "plt.figure(figsize = (12,7))\n",
    "\n",
    "for i in range(0 ,n_clusters):\n",
    "    plt.scatter(Age_income_df[label == i, 0], Age_income_df[label == i, 1], label = 'Cluster ' + str(i + 1))\n",
    "    \n",
    "plt.scatter(kmeans.cluster_centers_[:,0],kmeans.cluster_centers_[:,1],color = 'black')\n",
    "plt.title('Clusters of Customers')\n",
    "plt.xlabel('Age')\n",
    "plt.ylabel('Annual Income (k$)')\n",
    "plt.legend()\n",
    "plt.show()"
   ]
  },
  {
   "cell_type": "markdown",
   "id": "9e118995",
   "metadata": {},
   "source": [
    "After Observing the above Scatterplot -\n",
    "1. People with age between 30-50 are having medium-to-high annual income.\n",
    "2. People having younger age are having low-to-medium annual income.\n",
    "3. Most people with age > 50 are haing low-to-medium annual income."
   ]
  },
  {
   "cell_type": "code",
   "execution_count": 27,
   "id": "aac8ee1b",
   "metadata": {},
   "outputs": [
    {
     "name": "stdout",
     "output_type": "stream",
     "text": [
      "[[19 39]\n",
      " [21 81]\n",
      " [20  6]\n",
      " [23 77]\n",
      " [31 40]\n",
      " [22 76]\n",
      " [35  6]\n",
      " [23 94]\n",
      " [64  3]\n",
      " [30 72]\n",
      " [67 14]\n",
      " [35 99]\n",
      " [58 15]\n",
      " [24 77]\n",
      " [37 13]\n",
      " [22 79]\n",
      " [35 35]\n",
      " [20 66]\n",
      " [52 29]\n",
      " [35 98]\n",
      " [35 35]\n",
      " [25 73]\n",
      " [46  5]\n",
      " [31 73]\n",
      " [54 14]\n",
      " [29 82]\n",
      " [45 32]\n",
      " [35 61]\n",
      " [40 31]\n",
      " [23 87]\n",
      " [60  4]\n",
      " [21 73]\n",
      " [53  4]\n",
      " [18 92]\n",
      " [49 14]\n",
      " [21 81]\n",
      " [42 17]\n",
      " [30 73]\n",
      " [36 26]\n",
      " [20 75]\n",
      " [65 35]\n",
      " [24 92]\n",
      " [48 36]\n",
      " [31 61]\n",
      " [49 28]\n",
      " [24 65]\n",
      " [50 55]\n",
      " [27 47]\n",
      " [29 42]\n",
      " [31 42]\n",
      " [49 52]\n",
      " [33 60]\n",
      " [31 54]\n",
      " [59 60]\n",
      " [50 45]\n",
      " [47 41]\n",
      " [51 50]\n",
      " [69 46]\n",
      " [27 51]\n",
      " [53 46]\n",
      " [70 56]\n",
      " [19 55]\n",
      " [67 52]\n",
      " [54 59]\n",
      " [63 51]\n",
      " [18 59]\n",
      " [43 50]\n",
      " [68 48]\n",
      " [19 59]\n",
      " [32 47]\n",
      " [70 55]\n",
      " [47 42]\n",
      " [60 49]\n",
      " [60 56]\n",
      " [59 47]\n",
      " [26 54]\n",
      " [45 53]\n",
      " [40 48]\n",
      " [23 52]\n",
      " [49 42]\n",
      " [57 51]\n",
      " [38 55]\n",
      " [67 41]\n",
      " [46 44]\n",
      " [21 57]\n",
      " [48 46]\n",
      " [55 58]\n",
      " [22 55]\n",
      " [34 60]\n",
      " [50 46]\n",
      " [68 55]\n",
      " [18 41]\n",
      " [48 49]\n",
      " [40 40]\n",
      " [32 42]\n",
      " [24 52]\n",
      " [47 47]\n",
      " [27 50]\n",
      " [48 42]\n",
      " [20 49]\n",
      " [23 41]\n",
      " [49 48]\n",
      " [67 59]\n",
      " [26 55]\n",
      " [49 56]\n",
      " [21 42]\n",
      " [66 50]\n",
      " [54 46]\n",
      " [68 43]\n",
      " [66 48]\n",
      " [65 52]\n",
      " [19 54]\n",
      " [38 42]\n",
      " [19 46]\n",
      " [18 48]\n",
      " [19 50]\n",
      " [63 43]\n",
      " [49 59]\n",
      " [51 43]\n",
      " [50 57]\n",
      " [27 56]\n",
      " [38 40]\n",
      " [40 58]\n",
      " [39 91]\n",
      " [23 29]\n",
      " [31 77]\n",
      " [43 35]\n",
      " [40 95]\n",
      " [59 11]\n",
      " [38 75]\n",
      " [47  9]\n",
      " [39 75]\n",
      " [25 34]\n",
      " [31 71]\n",
      " [20  5]\n",
      " [29 88]\n",
      " [44  7]\n",
      " [32 73]\n",
      " [19 10]\n",
      " [35 72]\n",
      " [57  5]\n",
      " [32 93]\n",
      " [28 40]\n",
      " [32 87]\n",
      " [25 12]\n",
      " [28 97]\n",
      " [48 36]\n",
      " [32 74]\n",
      " [34 22]\n",
      " [34 90]\n",
      " [43 17]\n",
      " [39 88]\n",
      " [44 20]\n",
      " [38 76]\n",
      " [47 16]\n",
      " [27 89]\n",
      " [37  1]\n",
      " [30 78]\n",
      " [34  1]\n",
      " [30 73]\n",
      " [56 35]\n",
      " [29 83]\n",
      " [19  5]\n",
      " [31 93]\n",
      " [50 26]\n",
      " [36 75]\n",
      " [42 20]\n",
      " [33 95]\n",
      " [36 27]\n",
      " [32 63]\n",
      " [40 13]\n",
      " [28 75]\n",
      " [36 10]\n",
      " [36 92]\n",
      " [52 13]\n",
      " [30 86]\n",
      " [58 15]\n",
      " [27 69]\n",
      " [59 14]\n",
      " [35 90]\n",
      " [37 32]\n",
      " [32 86]\n",
      " [46 15]\n",
      " [29 88]\n",
      " [41 39]\n",
      " [30 97]\n",
      " [54 24]\n",
      " [28 68]\n",
      " [41 17]\n",
      " [36 85]\n",
      " [34 23]\n",
      " [32 69]\n",
      " [33  8]\n",
      " [38 91]\n",
      " [47 16]\n",
      " [35 79]\n",
      " [45 28]\n",
      " [32 74]\n",
      " [32 18]\n",
      " [30 83]]\n"
     ]
    }
   ],
   "source": [
    "Age_spending_df = df.iloc[:,[1,3]].values\n",
    "print(Age_spending_df)"
   ]
  },
  {
   "cell_type": "code",
   "execution_count": 28,
   "id": "4789707d",
   "metadata": {},
   "outputs": [],
   "source": [
    "from sklearn.cluster import KMeans\n",
    "wcss = []\n",
    "for i in range(1,11):\n",
    "    kmeans = KMeans(n_clusters = i, init = \"k-means++\")\n",
    "    kmeans.fit(Age_spending_df)\n",
    "    wcss.append(kmeans.inertia_)"
   ]
  },
  {
   "cell_type": "code",
   "execution_count": 29,
   "id": "955f7fbf",
   "metadata": {},
   "outputs": [
    {
     "data": {
      "image/png": "[encoded data removed]",
      "text/plain": [
       "<Figure size 864x504 with 1 Axes>"
      ]
     },
     "metadata": {
      "needs_background": "light"
     },
     "output_type": "display_data"
    }
   ],
   "source": [
    "plt.figure(figsize = (12,7))\n",
    "plt.grid()\n",
    "plt.plot(range(1,11), wcss, linewidth = 2, color = 'red', marker = '8')\n",
    "plt.xlabel('K value')\n",
    "plt.ylabel('wcss')\n",
    "plt.title('Elbow Graph')\n",
    "plt.show()"
   ]
  },
  {
   "cell_type": "code",
   "execution_count": 30,
   "id": "5bc247d0",
   "metadata": {},
   "outputs": [
    {
     "name": "stdout",
     "output_type": "stream",
     "text": [
      "[2 0 3 0 2 0 3 0 3 0 3 0 3 0 3 0 2 2 3 0 2 0 3 0 3 0 3 2 3 0 3 0 3 0 3 0 3\n",
      " 0 3 0 1 0 1 2 3 2 1 2 2 2 1 2 2 1 1 1 1 1 2 1 1 2 1 1 1 2 1 1 2 2 1 1 1 1\n",
      " 1 2 1 2 2 1 1 2 1 1 2 1 1 2 2 1 1 2 1 2 2 2 1 2 1 2 2 1 1 2 1 2 1 1 1 1 1\n",
      " 2 2 2 2 2 1 1 1 1 2 2 2 0 2 0 1 0 3 0 3 0 2 0 3 0 3 0 3 0 3 0 2 0 3 0 1 0\n",
      " 3 0 3 0 3 0 3 0 3 0 3 0 1 0 3 0 3 0 3 0 3 2 3 0 3 0 3 0 3 0 3 0 3 0 3 0 2\n",
      " 0 3 0 3 0 3 0 3 0 3 0 3 0 3 0]\n"
     ]
    }
   ],
   "source": [
    "n_clusters = 4\n",
    "kmeans = KMeans(n_clusters)\n",
    "label = kmeans.fit_predict(Age_spending_df)\n",
    "print(label)"
   ]
  },
  {
   "cell_type": "code",
   "execution_count": 31,
   "id": "f62f9994",
   "metadata": {},
   "outputs": [
    {
     "name": "stdout",
     "output_type": "stream",
     "text": [
      "0.49973941540141753\n"
     ]
    }
   ],
   "source": [
    "from sklearn.metrics import silhouette_score\n",
    "silhouette_avg = silhouette_score(Age_spending_df, label)\n",
    "print(silhouette_avg)"
   ]
  },
  {
   "cell_type": "code",
   "execution_count": 32,
   "id": "9d5b0120",
   "metadata": {},
   "outputs": [
    {
     "name": "stdout",
     "output_type": "stream",
     "text": [
      "[[30.1754386  82.35087719]\n",
      " [55.70833333 48.22916667]\n",
      " [27.61702128 49.14893617]\n",
      " [43.29166667 15.02083333]]\n"
     ]
    }
   ],
   "source": [
    "print(kmeans.cluster_centers_)"
   ]
  },
  {
   "cell_type": "code",
   "execution_count": 33,
   "id": "5588a676",
   "metadata": {},
   "outputs": [
    {
     "data": {
      "image/png": "[encoded data removed]",
      "text/plain": [
       "<Figure size 864x504 with 1 Axes>"
      ]
     },
     "metadata": {
      "needs_background": "light"
     },
     "output_type": "display_data"
    }
   ],
   "source": [
    "plt.figure(figsize = (12,7))\n",
    "\n",
    "for i in range(0 ,n_clusters):\n",
    "    plt.scatter(Age_spending_df[label == i, 0], Age_spending_df[label == i, 1], label = 'Cluster ' + str(i + 1))\n",
    "    \n",
    "plt.scatter(kmeans.cluster_centers_[:,0],kmeans.cluster_centers_[:,1],color = 'black')\n",
    "plt.title('Clusters of Customers')\n",
    "plt.xlabel('Age')\n",
    "plt.ylabel('Spending score(1-100)')\n",
    "plt.legend()\n",
    "plt.show()"
   ]
  },
  {
   "cell_type": "markdown",
   "id": "787b5466",
   "metadata": {},
   "source": [
    "From the above Scatterplot -\n",
    "1. People with age < 40 and high spending-score.\n",
    "2. People with age < 40 and medium spending-score.\n",
    "3. People with age > 45 and medium spending-score.\n",
    "4. People with age > 30 and low spending-score.\n",
    "\n",
    "Young AND adult people are having high spending-score.\n",
    "While older people are having low-to-medium spending-score."
   ]
  },
  {
   "cell_type": "code",
   "execution_count": 34,
   "id": "91c9235e",
   "metadata": {},
   "outputs": [
    {
     "name": "stdout",
     "output_type": "stream",
     "text": [
      "[[ 15  39]\n",
      " [ 15  81]\n",
      " [ 16   6]\n",
      " [ 16  77]\n",
      " [ 17  40]\n",
      " [ 17  76]\n",
      " [ 18   6]\n",
      " [ 18  94]\n",
      " [ 19   3]\n",
      " [ 19  72]\n",
      " [ 19  14]\n",
      " [ 19  99]\n",
      " [ 20  15]\n",
      " [ 20  77]\n",
      " [ 20  13]\n",
      " [ 20  79]\n",
      " [ 21  35]\n",
      " [ 21  66]\n",
      " [ 23  29]\n",
      " [ 23  98]\n",
      " [ 24  35]\n",
      " [ 24  73]\n",
      " [ 25   5]\n",
      " [ 25  73]\n",
      " [ 28  14]\n",
      " [ 28  82]\n",
      " [ 28  32]\n",
      " [ 28  61]\n",
      " [ 29  31]\n",
      " [ 29  87]\n",
      " [ 30   4]\n",
      " [ 30  73]\n",
      " [ 33   4]\n",
      " [ 33  92]\n",
      " [ 33  14]\n",
      " [ 33  81]\n",
      " [ 34  17]\n",
      " [ 34  73]\n",
      " [ 37  26]\n",
      " [ 37  75]\n",
      " [ 38  35]\n",
      " [ 38  92]\n",
      " [ 39  36]\n",
      " [ 39  61]\n",
      " [ 39  28]\n",
      " [ 39  65]\n",
      " [ 40  55]\n",
      " [ 40  47]\n",
      " [ 40  42]\n",
      " [ 40  42]\n",
      " [ 42  52]\n",
      " [ 42  60]\n",
      " [ 43  54]\n",
      " [ 43  60]\n",
      " [ 43  45]\n",
      " [ 43  41]\n",
      " [ 44  50]\n",
      " [ 44  46]\n",
      " [ 46  51]\n",
      " [ 46  46]\n",
      " [ 46  56]\n",
      " [ 46  55]\n",
      " [ 47  52]\n",
      " [ 47  59]\n",
      " [ 48  51]\n",
      " [ 48  59]\n",
      " [ 48  50]\n",
      " [ 48  48]\n",
      " [ 48  59]\n",
      " [ 48  47]\n",
      " [ 49  55]\n",
      " [ 49  42]\n",
      " [ 50  49]\n",
      " [ 50  56]\n",
      " [ 54  47]\n",
      " [ 54  54]\n",
      " [ 54  53]\n",
      " [ 54  48]\n",
      " [ 54  52]\n",
      " [ 54  42]\n",
      " [ 54  51]\n",
      " [ 54  55]\n",
      " [ 54  41]\n",
      " [ 54  44]\n",
      " [ 54  57]\n",
      " [ 54  46]\n",
      " [ 57  58]\n",
      " [ 57  55]\n",
      " [ 58  60]\n",
      " [ 58  46]\n",
      " [ 59  55]\n",
      " [ 59  41]\n",
      " [ 60  49]\n",
      " [ 60  40]\n",
      " [ 60  42]\n",
      " [ 60  52]\n",
      " [ 60  47]\n",
      " [ 60  50]\n",
      " [ 61  42]\n",
      " [ 61  49]\n",
      " [ 62  41]\n",
      " [ 62  48]\n",
      " [ 62  59]\n",
      " [ 62  55]\n",
      " [ 62  56]\n",
      " [ 62  42]\n",
      " [ 63  50]\n",
      " [ 63  46]\n",
      " [ 63  43]\n",
      " [ 63  48]\n",
      " [ 63  52]\n",
      " [ 63  54]\n",
      " [ 64  42]\n",
      " [ 64  46]\n",
      " [ 65  48]\n",
      " [ 65  50]\n",
      " [ 65  43]\n",
      " [ 65  59]\n",
      " [ 67  43]\n",
      " [ 67  57]\n",
      " [ 67  56]\n",
      " [ 67  40]\n",
      " [ 69  58]\n",
      " [ 69  91]\n",
      " [ 70  29]\n",
      " [ 70  77]\n",
      " [ 71  35]\n",
      " [ 71  95]\n",
      " [ 71  11]\n",
      " [ 71  75]\n",
      " [ 71   9]\n",
      " [ 71  75]\n",
      " [ 72  34]\n",
      " [ 72  71]\n",
      " [ 73   5]\n",
      " [ 73  88]\n",
      " [ 73   7]\n",
      " [ 73  73]\n",
      " [ 74  10]\n",
      " [ 74  72]\n",
      " [ 75   5]\n",
      " [ 75  93]\n",
      " [ 76  40]\n",
      " [ 76  87]\n",
      " [ 77  12]\n",
      " [ 77  97]\n",
      " [ 77  36]\n",
      " [ 77  74]\n",
      " [ 78  22]\n",
      " [ 78  90]\n",
      " [ 78  17]\n",
      " [ 78  88]\n",
      " [ 78  20]\n",
      " [ 78  76]\n",
      " [ 78  16]\n",
      " [ 78  89]\n",
      " [ 78   1]\n",
      " [ 78  78]\n",
      " [ 78   1]\n",
      " [ 78  73]\n",
      " [ 79  35]\n",
      " [ 79  83]\n",
      " [ 81   5]\n",
      " [ 81  93]\n",
      " [ 85  26]\n",
      " [ 85  75]\n",
      " [ 86  20]\n",
      " [ 86  95]\n",
      " [ 87  27]\n",
      " [ 87  63]\n",
      " [ 87  13]\n",
      " [ 87  75]\n",
      " [ 87  10]\n",
      " [ 87  92]\n",
      " [ 88  13]\n",
      " [ 88  86]\n",
      " [ 88  15]\n",
      " [ 88  69]\n",
      " [ 93  14]\n",
      " [ 93  90]\n",
      " [ 97  32]\n",
      " [ 97  86]\n",
      " [ 98  15]\n",
      " [ 98  88]\n",
      " [ 99  39]\n",
      " [ 99  97]\n",
      " [101  24]\n",
      " [101  68]\n",
      " [103  17]\n",
      " [103  85]\n",
      " [103  23]\n",
      " [103  69]\n",
      " [113   8]\n",
      " [113  91]\n",
      " [120  16]\n",
      " [120  79]\n",
      " [126  28]\n",
      " [126  74]\n",
      " [137  18]\n",
      " [137  83]]\n"
     ]
    }
   ],
   "source": [
    "Income_spending_df = df.iloc[:,2:4].values\n",
    "print(Income_spending_df)"
   ]
  },
  {
   "cell_type": "code",
   "execution_count": 35,
   "id": "24c64750",
   "metadata": {},
   "outputs": [],
   "source": [
    "from sklearn.cluster import KMeans\n",
    "wcss = []\n",
    "for i in range(1,11):\n",
    "    kmeans = KMeans(n_clusters = i, init = \"k-means++\")\n",
    "    kmeans.fit(Income_spending_df)\n",
    "    wcss.append(kmeans.inertia_)"
   ]
  },
  {
   "cell_type": "code",
   "execution_count": 36,
   "id": "e49165dc",
   "metadata": {},
   "outputs": [
    {
     "data": {
      "image/png": "[encoded data removed]",
      "text/plain": [
       "<Figure size 864x432 with 1 Axes>"
      ]
     },
     "metadata": {
      "needs_background": "light"
     },
     "output_type": "display_data"
    }
   ],
   "source": [
    "plt.figure(figsize = (12,6))\n",
    "plt.grid()\n",
    "plt.plot(range(1,11), wcss, linewidth = 2, color = 'red', marker = '8')\n",
    "plt.xlabel('K value')\n",
    "plt.ylabel('wcss')\n",
    "plt.title('Elbow Graph')\n",
    "plt.show()"
   ]
  },
  {
   "cell_type": "code",
   "execution_count": 37,
   "id": "43fa2e7b",
   "metadata": {},
   "outputs": [
    {
     "name": "stdout",
     "output_type": "stream",
     "text": [
      "[3 4 3 4 3 4 3 4 3 4 3 4 3 4 3 4 3 4 3 4 3 4 3 4 3 4 3 4 3 4 3 4 3 4 3 4 3\n",
      " 4 3 4 3 4 3 0 3 4 0 0 0 0 0 0 0 0 0 0 0 0 0 0 0 0 0 0 0 0 0 0 0 0 0 0 0 0\n",
      " 0 0 0 0 0 0 0 0 0 0 0 0 0 0 0 0 0 0 0 0 0 0 0 0 0 0 0 0 0 0 0 0 0 0 0 0 0\n",
      " 0 0 0 0 0 0 0 0 0 0 0 0 2 1 2 0 2 1 2 1 2 0 2 1 2 1 2 1 2 1 2 0 2 1 2 1 2\n",
      " 1 2 1 2 1 2 1 2 1 2 1 2 1 2 1 2 1 2 1 2 1 2 1 2 1 2 1 2 1 2 1 2 1 2 1 2 1\n",
      " 2 1 2 1 2 1 2 1 2 1 2 1 2 1 2]\n"
     ]
    }
   ],
   "source": [
    "n_clusters = 5\n",
    "kmeans = KMeans(n_clusters)\n",
    "label = kmeans.fit_predict(Income_spending_df)\n",
    "print(label)"
   ]
  },
  {
   "cell_type": "code",
   "execution_count": 38,
   "id": "a854faf6",
   "metadata": {},
   "outputs": [
    {
     "name": "stdout",
     "output_type": "stream",
     "text": [
      "0.553931997444648\n"
     ]
    }
   ],
   "source": [
    "from sklearn.metrics import silhouette_score\n",
    "silhouette_avg = silhouette_score(Income_spending_df, label)\n",
    "print(silhouette_avg)"
   ]
  },
  {
   "cell_type": "code",
   "execution_count": 39,
   "id": "40d33e71",
   "metadata": {},
   "outputs": [
    {
     "name": "stdout",
     "output_type": "stream",
     "text": [
      "[[55.2962963  49.51851852]\n",
      " [88.2        17.11428571]\n",
      " [86.53846154 82.12820513]\n",
      " [26.30434783 20.91304348]\n",
      " [25.72727273 79.36363636]]\n"
     ]
    }
   ],
   "source": [
    "print(kmeans.cluster_centers_)"
   ]
  },
  {
   "cell_type": "code",
   "execution_count": 40,
   "id": "d59daa4e",
   "metadata": {},
   "outputs": [
    {
     "data": {
      "image/png": "[encoded data removed]",
      "text/plain": [
       "<Figure size 864x504 with 1 Axes>"
      ]
     },
     "metadata": {
      "needs_background": "light"
     },
     "output_type": "display_data"
    }
   ],
   "source": [
    "plt.figure(figsize = (12,7))\n",
    "\n",
    "for i in range(0 ,n_clusters):\n",
    "    plt.scatter(Income_spending_df[label == i, 0], Income_spending_df[label == i, 1], label = 'Cluster ' + str(i + 1))\n",
    "    \n",
    "plt.scatter(kmeans.cluster_centers_[:,0],kmeans.cluster_centers_[:,1], color = 'black', label = 'Centroids')\n",
    "\n",
    "plt.title('Clusters of Customers')\n",
    "plt.xlabel('Income')\n",
    "plt.ylabel('Spending score(1-100)')\n",
    "plt.legend()\n",
    "plt.show()"
   ]
  },
  {
   "cell_type": "markdown",
   "id": "088b6c24",
   "metadata": {},
   "source": [
    "After observing the above Scatterplot -\n",
    "1. People with low annual income but high spending-score.\n",
    "2. People with average annual income with average spending-score.\n",
    "3. People with low annual income and low spending-score.\n",
    "4. People with high annual income and high spending-score as well.\n",
    "5. People with high annual income but low spending-score."
   ]
  },
  {
   "cell_type": "code",
   "execution_count": 41,
   "id": "8f19de25",
   "metadata": {},
   "outputs": [
    {
     "name": "stdout",
     "output_type": "stream",
     "text": [
      "[[ 19  15  39]\n",
      " [ 21  15  81]\n",
      " [ 20  16   6]\n",
      " [ 23  16  77]\n",
      " [ 31  17  40]\n",
      " [ 22  17  76]\n",
      " [ 35  18   6]\n",
      " [ 23  18  94]\n",
      " [ 64  19   3]\n",
      " [ 30  19  72]\n",
      " [ 67  19  14]\n",
      " [ 35  19  99]\n",
      " [ 58  20  15]\n",
      " [ 24  20  77]\n",
      " [ 37  20  13]\n",
      " [ 22  20  79]\n",
      " [ 35  21  35]\n",
      " [ 20  21  66]\n",
      " [ 52  23  29]\n",
      " [ 35  23  98]\n",
      " [ 35  24  35]\n",
      " [ 25  24  73]\n",
      " [ 46  25   5]\n",
      " [ 31  25  73]\n",
      " [ 54  28  14]\n",
      " [ 29  28  82]\n",
      " [ 45  28  32]\n",
      " [ 35  28  61]\n",
      " [ 40  29  31]\n",
      " [ 23  29  87]\n",
      " [ 60  30   4]\n",
      " [ 21  30  73]\n",
      " [ 53  33   4]\n",
      " [ 18  33  92]\n",
      " [ 49  33  14]\n",
      " [ 21  33  81]\n",
      " [ 42  34  17]\n",
      " [ 30  34  73]\n",
      " [ 36  37  26]\n",
      " [ 20  37  75]\n",
      " [ 65  38  35]\n",
      " [ 24  38  92]\n",
      " [ 48  39  36]\n",
      " [ 31  39  61]\n",
      " [ 49  39  28]\n",
      " [ 24  39  65]\n",
      " [ 50  40  55]\n",
      " [ 27  40  47]\n",
      " [ 29  40  42]\n",
      " [ 31  40  42]\n",
      " [ 49  42  52]\n",
      " [ 33  42  60]\n",
      " [ 31  43  54]\n",
      " [ 59  43  60]\n",
      " [ 50  43  45]\n",
      " [ 47  43  41]\n",
      " [ 51  44  50]\n",
      " [ 69  44  46]\n",
      " [ 27  46  51]\n",
      " [ 53  46  46]\n",
      " [ 70  46  56]\n",
      " [ 19  46  55]\n",
      " [ 67  47  52]\n",
      " [ 54  47  59]\n",
      " [ 63  48  51]\n",
      " [ 18  48  59]\n",
      " [ 43  48  50]\n",
      " [ 68  48  48]\n",
      " [ 19  48  59]\n",
      " [ 32  48  47]\n",
      " [ 70  49  55]\n",
      " [ 47  49  42]\n",
      " [ 60  50  49]\n",
      " [ 60  50  56]\n",
      " [ 59  54  47]\n",
      " [ 26  54  54]\n",
      " [ 45  54  53]\n",
      " [ 40  54  48]\n",
      " [ 23  54  52]\n",
      " [ 49  54  42]\n",
      " [ 57  54  51]\n",
      " [ 38  54  55]\n",
      " [ 67  54  41]\n",
      " [ 46  54  44]\n",
      " [ 21  54  57]\n",
      " [ 48  54  46]\n",
      " [ 55  57  58]\n",
      " [ 22  57  55]\n",
      " [ 34  58  60]\n",
      " [ 50  58  46]\n",
      " [ 68  59  55]\n",
      " [ 18  59  41]\n",
      " [ 48  60  49]\n",
      " [ 40  60  40]\n",
      " [ 32  60  42]\n",
      " [ 24  60  52]\n",
      " [ 47  60  47]\n",
      " [ 27  60  50]\n",
      " [ 48  61  42]\n",
      " [ 20  61  49]\n",
      " [ 23  62  41]\n",
      " [ 49  62  48]\n",
      " [ 67  62  59]\n",
      " [ 26  62  55]\n",
      " [ 49  62  56]\n",
      " [ 21  62  42]\n",
      " [ 66  63  50]\n",
      " [ 54  63  46]\n",
      " [ 68  63  43]\n",
      " [ 66  63  48]\n",
      " [ 65  63  52]\n",
      " [ 19  63  54]\n",
      " [ 38  64  42]\n",
      " [ 19  64  46]\n",
      " [ 18  65  48]\n",
      " [ 19  65  50]\n",
      " [ 63  65  43]\n",
      " [ 49  65  59]\n",
      " [ 51  67  43]\n",
      " [ 50  67  57]\n",
      " [ 27  67  56]\n",
      " [ 38  67  40]\n",
      " [ 40  69  58]\n",
      " [ 39  69  91]\n",
      " [ 23  70  29]\n",
      " [ 31  70  77]\n",
      " [ 43  71  35]\n",
      " [ 40  71  95]\n",
      " [ 59  71  11]\n",
      " [ 38  71  75]\n",
      " [ 47  71   9]\n",
      " [ 39  71  75]\n",
      " [ 25  72  34]\n",
      " [ 31  72  71]\n",
      " [ 20  73   5]\n",
      " [ 29  73  88]\n",
      " [ 44  73   7]\n",
      " [ 32  73  73]\n",
      " [ 19  74  10]\n",
      " [ 35  74  72]\n",
      " [ 57  75   5]\n",
      " [ 32  75  93]\n",
      " [ 28  76  40]\n",
      " [ 32  76  87]\n",
      " [ 25  77  12]\n",
      " [ 28  77  97]\n",
      " [ 48  77  36]\n",
      " [ 32  77  74]\n",
      " [ 34  78  22]\n",
      " [ 34  78  90]\n",
      " [ 43  78  17]\n",
      " [ 39  78  88]\n",
      " [ 44  78  20]\n",
      " [ 38  78  76]\n",
      " [ 47  78  16]\n",
      " [ 27  78  89]\n",
      " [ 37  78   1]\n",
      " [ 30  78  78]\n",
      " [ 34  78   1]\n",
      " [ 30  78  73]\n",
      " [ 56  79  35]\n",
      " [ 29  79  83]\n",
      " [ 19  81   5]\n",
      " [ 31  81  93]\n",
      " [ 50  85  26]\n",
      " [ 36  85  75]\n",
      " [ 42  86  20]\n",
      " [ 33  86  95]\n",
      " [ 36  87  27]\n",
      " [ 32  87  63]\n",
      " [ 40  87  13]\n",
      " [ 28  87  75]\n",
      " [ 36  87  10]\n",
      " [ 36  87  92]\n",
      " [ 52  88  13]\n",
      " [ 30  88  86]\n",
      " [ 58  88  15]\n",
      " [ 27  88  69]\n",
      " [ 59  93  14]\n",
      " [ 35  93  90]\n",
      " [ 37  97  32]\n",
      " [ 32  97  86]\n",
      " [ 46  98  15]\n",
      " [ 29  98  88]\n",
      " [ 41  99  39]\n",
      " [ 30  99  97]\n",
      " [ 54 101  24]\n",
      " [ 28 101  68]\n",
      " [ 41 103  17]\n",
      " [ 36 103  85]\n",
      " [ 34 103  23]\n",
      " [ 32 103  69]\n",
      " [ 33 113   8]\n",
      " [ 38 113  91]\n",
      " [ 47 120  16]\n",
      " [ 35 120  79]\n",
      " [ 45 126  28]\n",
      " [ 32 126  74]\n",
      " [ 32 137  18]\n",
      " [ 30 137  83]]\n"
     ]
    }
   ],
   "source": [
    "Age_income_spending_df = df.iloc[:,1:].values\n",
    "print(Age_income_spending_df)"
   ]
  }
 ],
 "metadata": {
  "kernelspec": {
   "display_name": "Python 3 (ipykernel)",
   "language": "python",
   "name": "python3"
  },
  "language_info": {
   "codemirror_mode": {
    "name": "ipython",
    "version": 3
   },
   "file_extension": ".py",
   "mimetype": "text/x-python",
   "name": "python",
   "nbconvert_exporter": "python",
   "pygments_lexer": "ipython3",
   "version": "3.10.9"
  }
 },
 "nbformat": 4,
 "nbformat_minor": 5
}
